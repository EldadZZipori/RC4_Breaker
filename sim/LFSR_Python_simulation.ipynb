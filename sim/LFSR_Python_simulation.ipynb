{
 "cells": [
  {
   "cell_type": "code",
   "execution_count": 12,
   "id": "9f725378-ec4c-49a4-a865-819f0d7e610e",
   "metadata": {},
   "outputs": [
    {
     "name": "stdout",
     "output_type": "stream",
     "text": [
      "Sequence length: 4194303\n",
      "Expected length: 4194303\n",
      "Maximal Length: True\n",
      "Initial values: 0x3fffff, 0x3f07ff, 0x3ff800, 0x1f001f\n"
     ]
    }
   ],
   "source": [
    "def lfsr(seed, taps, num_bits):\n",
    "    # Ensure seed has the correct number of bits\n",
    "    if seed.bit_length() > num_bits or seed == 0:\n",
    "        raise ValueError(\"Seed must be a non-zero integer that fits within the specified number of bits.\")\n",
    "    \n",
    "    # Initialize the LFSR with the seed\n",
    "    lfsr_state = seed\n",
    "    visited_states = set()\n",
    "    states = []\n",
    "    sequence_length = 0\n",
    "    \n",
    "    while lfsr_state not in visited_states:\n",
    "        # Record the current state\n",
    "        visited_states.add(lfsr_state)\n",
    "        states.append(hex(lfsr_state))\n",
    "        sequence_length += 1\n",
    "\n",
    "        # Calculate the feedback bit\n",
    "        feedback = 0\n",
    "        for tap in taps:\n",
    "            feedback ^= (lfsr_state >> (num_bits - tap)) & 1\n",
    "\n",
    "        # Shift the register and apply the feedback bit\n",
    "        lfsr_state = ((lfsr_state << 1) & ((1 << num_bits) - 1)) | feedback\n",
    "    \n",
    "    return (sequence_length, states)\n",
    "\n",
    "# Parameters\n",
    "num_bits = 22\n",
    "taps = [22, 1]\n",
    "seed = int(\"3fffff\", 16)  # Initial seed (must be non-zero)\n",
    "\n",
    "# Run the LFSR\n",
    "sequence_length, visited_states = lfsr(seed, taps, num_bits)\n",
    "expected_length = 2**num_bits - 1\n",
    "\n",
    "print(f\"Sequence length: {sequence_length}\")\n",
    "print(f\"Expected length: {expected_length}\")\n",
    "print(f\"Maximal Length: {sequence_length == expected_length}\")\n",
    "print(f\"Initial values: {visited_states[0]}, {visited_states[int((sequence_length-1)/4)]}, {visited_states[int((sequence_length-1)*2/4)]}, {visited_states[int((sequence_length-1)*3/4)]}\")"
   ]
  },
  {
   "cell_type": "code",
   "execution_count": null,
   "id": "4cdc2a56-49f9-41ff-977b-610319ca1005",
   "metadata": {},
   "outputs": [],
   "source": []
  },
  {
   "cell_type": "code",
   "execution_count": null,
   "id": "6b70b2ea-5f4d-4c1b-a605-bc1e561d354f",
   "metadata": {},
   "outputs": [],
   "source": []
  }
 ],
 "metadata": {
  "kernelspec": {
   "display_name": "Python 3 (ipykernel)",
   "language": "python",
   "name": "python3"
  },
  "language_info": {
   "codemirror_mode": {
    "name": "ipython",
    "version": 3
   },
   "file_extension": ".py",
   "mimetype": "text/x-python",
   "name": "python",
   "nbconvert_exporter": "python",
   "pygments_lexer": "ipython3",
   "version": "3.11.6"
  }
 },
 "nbformat": 4,
 "nbformat_minor": 5
}
